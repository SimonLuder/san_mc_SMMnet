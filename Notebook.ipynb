{
 "cells": [
  {
   "cell_type": "code",
   "execution_count": null,
   "metadata": {},
   "outputs": [],
   "source": [
    "#!pip install kaggle\n",
    "import os\n",
    "import networkx as nx\n",
    "import pandas as pd\n",
    "import numpy as np\n",
    "from pathlib import Path\n",
    "from zipfile import ZipFile"
   ]
  },
  {
   "cell_type": "markdown",
   "metadata": {},
   "source": [
    "Data from: https://www.kaggle.com/leomauro/smmnet"
   ]
  },
  {
   "cell_type": "markdown",
   "metadata": {},
   "source": [
    "## Setup kaggle api"
   ]
  },
  {
   "cell_type": "code",
   "execution_count": null,
   "metadata": {},
   "outputs": [],
   "source": [
    "# Create .kaggle path in user dir if not exists\n",
    "if not os.path.exists(str(Path.home())+\"\\.kaggle\"):\n",
    "    os.makedirs(str(Path.home())+\"\\.kaggle\")"
   ]
  },
  {
   "cell_type": "markdown",
   "metadata": {},
   "source": [
    "Go to www.<span>kaggle.<span>com/**your_username**/account and download a new api-token. \n",
    "After downloading the json file needs to be put into the C:\\Users\\\\**username**\\\\.kaggle directory."
   ]
  },
  {
   "cell_type": "markdown",
   "metadata": {},
   "source": [
    "## Download datasets"
   ]
  },
  {
   "cell_type": "code",
   "execution_count": null,
   "metadata": {},
   "outputs": [],
   "source": [
    "!kaggle datasets download -d \"leomauro/smmnet\" -p \"C:\\Users\\samlu\\Documents\\GitHub\\san_mc_SMMnet\\data\""
   ]
  },
  {
   "cell_type": "code",
   "execution_count": null,
   "metadata": {},
   "outputs": [],
   "source": [
    "if not os.path.isdir('./data') :\n",
    "    # create data folder\n",
    "    os.makedirs('./data') \n",
    "    \n",
    "    # download csv's\n",
    "    !kaggle datasets download -d \"leomauro/smmnet\" -p \"C:\\Users\\samlu\\Documents\\GitHub\\san_mc_SMMnet\\data\"\n",
    "    \n",
    "    # unzip data\n",
    "    with ZipFile('.\\data\\smmnet.zip', 'r') as zipObj: \n",
    "       # Extract all the contents of zip file in current directory\n",
    "       zipObj.extractall(\".\\data\")"
   ]
  },
  {
   "cell_type": "markdown",
   "metadata": {},
   "source": [
    "## Import data"
   ]
  },
  {
   "cell_type": "code",
   "execution_count": null,
   "metadata": {},
   "outputs": [],
   "source": [
    "clears = pd.read_csv(\"./data/clears.csv\", delimiter = \"\\t\")\n",
    "course_meta = pd.read_csv(\"./data/course-meta.csv\", delimiter = \"\\t\")\n",
    "courses = pd.read_csv(\"./data/courses.csv\", delimiter = \"\\t\")\n",
    "likes = pd.read_csv(\"./data/likes.csv\", delimiter = \"\\t\")\n",
    "players = pd.read_csv(\"./data/players.csv\", delimiter = \"\\t\")\n",
    "plays = pd.read_csv(\"./data/plays.csv\", delimiter = \"\\t\")\n",
    "records = pd.read_csv(\"./data/records.csv\", delimiter = \"\\t\")"
   ]
  }
 ],
 "metadata": {
  "kernelspec": {
   "display_name": "Python 3",
   "language": "python",
   "name": "python3"
  },
  "language_info": {
   "codemirror_mode": {
    "name": "ipython",
    "version": 3
   },
   "file_extension": ".py",
   "mimetype": "text/x-python",
   "name": "python",
   "nbconvert_exporter": "python",
   "pygments_lexer": "ipython3",
   "version": "3.7.3"
  }
 },
 "nbformat": 4,
 "nbformat_minor": 2
}

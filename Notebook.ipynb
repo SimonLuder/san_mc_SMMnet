{
 "cells": [
  {
   "cell_type": "code",
   "execution_count": null,
   "metadata": {},
   "outputs": [],
   "source": [
    "#!pip install kaggle\n",
    "import os\n",
    "import networkx as nx\n",
    "import pandas as pd\n",
    "import numpy as np\n",
    "from pathlib import Path\n",
    "import zipfile"
   ]
  },
  {
   "cell_type": "markdown",
   "metadata": {},
   "source": [
    "Data from: https://www.kaggle.com/leomauro/smmnet"
   ]
  },
  {
   "cell_type": "markdown",
   "metadata": {},
   "source": [
    "# Datenbeschaffung & Aufbereitung"
   ]
  },
  {
   "cell_type": "markdown",
   "metadata": {},
   "source": [
    "## Setup kaggle api"
   ]
  },
  {
   "cell_type": "code",
   "execution_count": null,
   "metadata": {},
   "outputs": [],
   "source": [
    "# Create .kaggle path in user dir if not exists\n",
    "if not os.path.exists(str(Path.home())+\"\\.kaggle\"):\n",
    "    os.makedirs(str(Path.home())+\"\\.kaggle\")"
   ]
  },
  {
   "cell_type": "markdown",
   "metadata": {},
   "source": [
    "Go to www.<span>kaggle.<span>com/**your_username**/account and download a new api-token. \n",
    "After downloading the json file needs to be put into the C:\\Users\\\\**username**\\\\.kaggle directory."
   ]
  },
  {
   "cell_type": "markdown",
   "metadata": {},
   "source": [
    "## Download dataset"
   ]
  },
  {
   "cell_type": "code",
   "execution_count": null,
   "metadata": {},
   "outputs": [],
   "source": [
    "# Check if folder already exists\n",
    "if not os.path.isdir('./data'):\n",
    "    \n",
    "    # if not create data folder\n",
    "    os.makedirs('./data') \n",
    "    \n",
    "    # download csv's\n",
    "    !kaggle datasets download -d \"leomauro/smmnet\" -p \"./data\""
   ]
  },
  {
   "cell_type": "markdown",
   "metadata": {},
   "source": [
    "## Unzip files"
   ]
  },
  {
   "cell_type": "code",
   "execution_count": null,
   "metadata": {},
   "outputs": [],
   "source": [
    "file_list = [\"clears.csv\",\"course-meta.csv\",\"courses.csv\",\"likes.csv\",\"players.csv\",\"plays.csv\",\"records.csv\"]\n",
    "files_exist = []\n",
    "\n",
    "# Check if all csv's exist\n",
    "for file in file_list:\n",
    "    files_exist.append(os.path.isfile(\"./data/\" + file))\n",
    "    \n",
    "# if not create csv's\n",
    "if not all(files_exist):\n",
    "    with zipfile.ZipFile(\"./data/smmnet.zip\", 'r') as zip_ref:\n",
    "        zip_ref.extractall(\"./data\") "
   ]
  },
  {
   "cell_type": "markdown",
   "metadata": {},
   "source": [
    "## Import files as Pandas DataFrame"
   ]
  },
  {
   "cell_type": "code",
   "execution_count": null,
   "metadata": {},
   "outputs": [],
   "source": [
    "clears = pd.read_csv(\"./data/clears.csv\", delimiter = \"\\t\")\n",
    "course_meta = pd.read_csv(\"./data/course-meta.csv\", delimiter = \"\\t\") # index_col=[\"id\",\"firstClear\"]\n",
    "courses = pd.read_csv(\"./data/courses.csv\", delimiter = \"\\t\")\n",
    "likes = pd.read_csv(\"./data/likes.csv\", delimiter = \"\\t\")\n",
    "players = pd.read_csv(\"./data/players.csv\", delimiter = \"\\t\")\n",
    "plays = pd.read_csv(\"./data/plays.csv\", delimiter = \"\\t\")\n",
    "records = pd.read_csv(\"./data/records.csv\", delimiter = \"\\t\")"
   ]
  },
  {
   "cell_type": "markdown",
   "metadata": {},
   "source": [
    "# Data Validation"
   ]
  },
  {
   "cell_type": "code",
   "execution_count": null,
   "metadata": {},
   "outputs": [],
   "source": []
  },
  {
   "cell_type": "markdown",
   "metadata": {},
   "source": [
    "# EDA"
   ]
  },
  {
   "cell_type": "code",
   "execution_count": null,
   "metadata": {},
   "outputs": [],
   "source": []
  },
  {
   "cell_type": "markdown",
   "metadata": {},
   "source": [
    "# Social Network Analysis"
   ]
  },
  {
   "cell_type": "code",
   "execution_count": null,
   "metadata": {},
   "outputs": [],
   "source": []
  }
 ],
 "metadata": {
  "kernelspec": {
   "display_name": "Python 3",
   "language": "python",
   "name": "python3"
  },
  "language_info": {
   "codemirror_mode": {
    "name": "ipython",
    "version": 3
   },
   "file_extension": ".py",
   "mimetype": "text/x-python",
   "name": "python",
   "nbconvert_exporter": "python",
   "pygments_lexer": "ipython3",
   "version": "3.7.3"
  }
 },
 "nbformat": 4,
 "nbformat_minor": 2
}

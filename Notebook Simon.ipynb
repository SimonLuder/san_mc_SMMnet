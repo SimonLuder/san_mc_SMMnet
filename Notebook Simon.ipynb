{
 "cells": [
  {
   "cell_type": "code",
   "execution_count": null,
   "metadata": {},
   "outputs": [],
   "source": [
    "#!pip install kaggle\n",
    "import os\n",
    "import networkx as nx\n",
    "import pandas as pd\n",
    "import numpy as np\n",
    "from pathlib import Path\n",
    "import zipfile\n",
    "import matplotlib.pyplot as plt\n",
    "from networkx.algorithms import bipartite\n",
    "import random"
   ]
  },
  {
   "cell_type": "markdown",
   "metadata": {},
   "source": [
    "Data from: https://www.kaggle.com/leomauro/smmnet"
   ]
  },
  {
   "cell_type": "markdown",
   "metadata": {},
   "source": [
    "# Datenbeschaffung & Aufbereitung"
   ]
  },
  {
   "cell_type": "markdown",
   "metadata": {},
   "source": [
    "## Setup kaggle api"
   ]
  },
  {
   "cell_type": "code",
   "execution_count": null,
   "metadata": {},
   "outputs": [],
   "source": [
    "# Create .kaggle path in user dir if not exists\n",
    "if not os.path.exists(str(Path.home())+\"\\.kaggle\"):\n",
    "    os.makedirs(str(Path.home())+\"\\.kaggle\")"
   ]
  },
  {
   "cell_type": "markdown",
   "metadata": {},
   "source": [
    "Go to www.<span>kaggle.<span>com/**your_username**/account and download a new api-token. \n",
    "After downloading the json file needs to be put into the C:\\Users\\\\**username**\\\\.kaggle directory."
   ]
  },
  {
   "cell_type": "markdown",
   "metadata": {},
   "source": [
    "## Download dataset"
   ]
  },
  {
   "cell_type": "code",
   "execution_count": null,
   "metadata": {},
   "outputs": [],
   "source": [
    "# Check if folder already exists\n",
    "if not os.path.isdir('./data'):\n",
    "    \n",
    "    # if not create data folder\n",
    "    os.makedirs('./data') \n",
    "    \n",
    "    # download csv's\n",
    "    !kaggle datasets download -d \"leomauro/smmnet\" -p \"./data\""
   ]
  },
  {
   "cell_type": "markdown",
   "metadata": {},
   "source": [
    "## Unzip files"
   ]
  },
  {
   "cell_type": "code",
   "execution_count": null,
   "metadata": {},
   "outputs": [],
   "source": [
    "file_list = [\"clears.csv\",\"course-meta.csv\",\"courses.csv\",\"likes.csv\",\"players.csv\",\"plays.csv\",\"records.csv\"]\n",
    "files_exist = []\n",
    "\n",
    "# Check if all csv's exist\n",
    "for file in file_list:\n",
    "    files_exist.append(os.path.isfile(\"./data/\" + file))\n",
    "    \n",
    "# if not create csv's\n",
    "if not all(files_exist):\n",
    "    with zipfile.ZipFile(\"./data/smmnet.zip\", 'r') as zip_ref:\n",
    "        zip_ref.extractall(\"./data\") "
   ]
  },
  {
   "cell_type": "markdown",
   "metadata": {},
   "source": [
    "## Import files as Pandas DataFrame"
   ]
  },
  {
   "cell_type": "code",
   "execution_count": null,
   "metadata": {},
   "outputs": [],
   "source": [
    "clears = pd.read_csv(\"./data/clears.csv\", delimiter = \"\\t\")\n",
    "course_meta = pd.read_csv(\"./data/course-meta.csv\", delimiter = \"\\t\") # index_col=[\"id\",\"firstClear\"]\n",
    "courses = pd.read_csv(\"./data/courses.csv\", delimiter = \"\\t\")\n",
    "likes = pd.read_csv(\"./data/likes.csv\", delimiter = \"\\t\")\n",
    "players = pd.read_csv(\"./data/players.csv\", delimiter = \"\\t\")\n",
    "plays = pd.read_csv(\"./data/plays.csv\", delimiter = \"\\t\")\n",
    "records = pd.read_csv(\"./data/records.csv\", delimiter = \"\\t\")"
   ]
  },
  {
   "cell_type": "markdown",
   "metadata": {},
   "source": [
    "# Data Validation"
   ]
  },
  {
   "cell_type": "code",
   "execution_count": null,
   "metadata": {},
   "outputs": [],
   "source": []
  },
  {
   "cell_type": "markdown",
   "metadata": {},
   "source": [
    "# EDA"
   ]
  },
  {
   "cell_type": "markdown",
   "metadata": {},
   "source": [
    "### Welche Nationalitäten sind unter den Spielern am häuffingsten vertreten?"
   ]
  },
  {
   "cell_type": "code",
   "execution_count": null,
   "metadata": {},
   "outputs": [],
   "source": [
    "def player_nationalities(top_n):\n",
    "    nationalities = players.copy()\n",
    "    nationalities[\"count\"] = 1\n",
    "    nationalities = nationalities.groupby(\"flag\").count()[\"count\"].sort_values(ascending=False)\n",
    "    top_nationalities = nationalities[0:top_n].append(pd.Series(nationalities[top_n:].sum()))\n",
    "    new_index = list(top_nationalities.index)\n",
    "    new_index[-1] = \"Others\"\n",
    "    top_nationalities.index=new_index\n",
    "\n",
    "    plt.bar(x=top_nationalities.index, height=top_nationalities, color=\"#FF1E2D\")\n",
    "    plt.title(\"Nr of Players by Nationality\")\n",
    "    plt.xlabel(\"Country\")\n",
    "    plt.ylabel(\"count [n]\")\n",
    "    plt.show()\n",
    "    \n",
    "    return top_nationalities\n",
    "\n",
    "player_nationalities(top_n=10)"
   ]
  },
  {
   "cell_type": "markdown",
   "metadata": {},
   "source": []
  },
  {
   "cell_type": "code",
   "execution_count": null,
   "metadata": {},
   "outputs": [],
   "source": [
    "def level_difficilties():\n",
    "    course_difficulties = courses.groupby(\"difficulty\").count()\n",
    "    colors = [\"#2CB01A\",\"#FBD000\", \"#FF1E2d\", \"#000000\"]\n",
    "    plt.bar(x=[\"easy\", \"normal\", \"expert\", \"superExpert\"], height=course_difficulties[\"id\"], color = colors)\n",
    "    plt.title(\"Nr of Levels by Difficulty\")\n",
    "    plt.xlabel(\"Difficulty\")\n",
    "    plt.ylabel(\"count [n]\")\n",
    "    plt.show()\n",
    "    \n",
    "level_difficilties()"
   ]
  },
  {
   "cell_type": "markdown",
   "metadata": {},
   "source": [
    "# Social Network Analysis"
   ]
  },
  {
   "cell_type": "code",
   "execution_count": null,
   "metadata": {},
   "outputs": [],
   "source": []
  },
  {
   "cell_type": "code",
   "execution_count": null,
   "metadata": {},
   "outputs": [],
   "source": []
  },
  {
   "cell_type": "markdown",
   "metadata": {},
   "source": [
    "## Player-Level interaction"
   ]
  },
  {
   "cell_type": "markdown",
   "metadata": {},
   "source": [
    "The dataset contains the two tables \"players\" which contains all players and the table \"plays\" which contains all interactions of these players with a level. If we merge these two datasets together, we are able to create a network of all interactions between players and levels"
   ]
  },
  {
   "cell_type": "markdown",
   "metadata": {},
   "source": [
    "### Create Graph"
   ]
  },
  {
   "cell_type": "code",
   "execution_count": null,
   "metadata": {},
   "outputs": [],
   "source": [
    "#merge players df with plays df\n",
    "player_game_interactions = pd.merge(players, plays.rename(columns={\"id\": \"level_id\"}), how=\"left\", left_on=\"id\", right_on=\"player\")\n",
    "\n",
    "player_level_interactions = nx.Graph()\n",
    "\n",
    "player_nodes = list(player_game_interactions[\"id\"].unique())\n",
    "level_nodes = list(player_game_interactions[\"level_id\"].unique())\n",
    "edges = player_game_interactions[[\"player\", \"level_id\"]].values.tolist()\n",
    "\n",
    "\n",
    "player_level_interactions.add_nodes_from(player_nodes)\n",
    "player_level_interactions.add_nodes_from(level_nodes)\n",
    "player_level_interactions.add_edges_from(edges)\n",
    "\n",
    "print(nx.info(player_level_interactions))"
   ]
  },
  {
   "cell_type": "markdown",
   "metadata": {},
   "source": [
    "The graph has a total of 999'335 nodes (players + levels) and 3'941'379 edges. The average node degree is 7.89. Due to the large number of nodes, it is not possible to visualize the complete graph for reasons of overview and lack of computing power. However, we can examine the graph more closely for it's attributes."
   ]
  },
  {
   "cell_type": "markdown",
   "metadata": {},
   "source": [
    "### Node degrees \n",
    "he node degrees of the players correspond to the number of different levels they have interacted with. The first attempt to read out the node degrees via networkX and display them as a histogram took too long. "
   ]
  },
  {
   "cell_type": "code",
   "execution_count": null,
   "metadata": {},
   "outputs": [],
   "source": [
    "def plot_player_degrees_nx(player_game_interactions):\n",
    "    # Braucht zu lange.\n",
    "    deg_levels, deg_players = bipartite.degrees(player_level_interactions, player_nodes)\n",
    "    deg_players = dict(deg_players)\n",
    "    plt.bar(list(deg_players.keys()), deg_players.values(), color=\"#3944BC\")\n",
    "    plt.show()"
   ]
  },
  {
   "cell_type": "markdown",
   "metadata": {},
   "source": [
    "Alternatively, the required data was therefore generated here directly from the data frame:"
   ]
  },
  {
   "cell_type": "code",
   "execution_count": null,
   "metadata": {},
   "outputs": [],
   "source": [
    "def plot_player_degrees_pd(player_game_interactions):\n",
    "    data = player_game_interactions.groupby(\"id\").count().reset_index().rename(columns={\"player\": \"interactions\"})\n",
    "\n",
    "    plt.figure(figsize=(12, 6))\n",
    "    plt.hist(data[\"interactions\"], bins=range(min(data[\"interactions\"]), max(data[\"interactions\"]) + 1, 1), color=\"#3944BC\")\n",
    "    plt.yscale('log')\n",
    "    plt.title(\"Distribution of level interactions per player\")\n",
    "    plt.xlabel(\"Nr of level interactions\")\n",
    "    plt.ylabel(\"count [n]\")\n",
    "    plt.show()\n",
    "    return data.drop(columns=[\"image\",\"flag\",\"name\",\"catch\",\"level_id\"]).sort_values(\"interactions\", ascending=False).reset_index(drop=True)\n",
    "    \n",
    "node_degrees = plot_player_degrees_pd(player_game_interactions)\n",
    "print(\"Quantiles:\")\n",
    "print(node_degrees[\"interactions\"].quantile([0,0.25,0.5,0.75,1]))"
   ]
  },
  {
   "cell_type": "markdown",
   "metadata": {},
   "source": [
    "Most players have interacted with view different levels. Overall 75 percent of all players have only interacted with four or less levels within the comunity. The median node degree is only at 2. However there are some players that have a very large node degree. Lets have a look at them:"
   ]
  },
  {
   "cell_type": "code",
   "execution_count": null,
   "metadata": {},
   "outputs": [],
   "source": [
    "print(\"10 most interactive players:\\n\")\n",
    "print(node_degrees.loc[node_degrees[\"interactions\"]>=1000])"
   ]
  },
  {
   "cell_type": "markdown",
   "metadata": {},
   "source": [
    "The most active player has interacted with a total of 2681 levels. Overall there are twelve players that have over 1000 level interactions. Which explains why the average node degree at 7.9 is nearly four times higher than the median at 2."
   ]
  },
  {
   "cell_type": "code",
   "execution_count": null,
   "metadata": {},
   "outputs": [],
   "source": [
    "def top_n_players(players, plays, n):\n",
    "    #merge players df with plays df\n",
    "    player_game_interactions = pd.merge(players, plays.rename(columns={\"id\": \"level_id\"}), how=\"left\", left_on=\"id\", right_on=\"player\")\n",
    "    #Level interaction of top n interacting players\n",
    "    top_n_players = player_game_interactions.groupby(\"player\").count().nlargest(n,'id').reset_index()[\"player\"].tolist()\n",
    "    n_player_interactions = player_game_interactions.loc[player_game_interactions['player'].isin(top_n_players)].reset_index(drop=True)\n",
    "    return n_player_interactions\n",
    "\n",
    "n = 12\n",
    "n_player_interactions = top_n_players(players, plays, n)"
   ]
  },
  {
   "cell_type": "code",
   "execution_count": null,
   "metadata": {},
   "outputs": [],
   "source": [
    "big_n = nx.Graph()\n",
    "\n",
    "player_nodes = list(n_player_interactions[\"player\"].unique())\n",
    "level_nodes = list(n_player_interactions[\"level_id\"].unique())\n",
    "edges = n_player_interactions[[\"player\", \"level_id\"]].values.tolist()\n",
    "\n",
    "\n",
    "big_n.add_nodes_from(player_nodes)\n",
    "big_n.add_nodes_from(level_nodes)\n",
    "big_n.add_edges_from(edges, weight=0.5)\n",
    "\n",
    "pos = nx.drawing.layout.spring_layout(big_n, seed=28)\n",
    "\n",
    "# plt.figure(figsize=(20, 20))\n",
    "# ax = plt.gca()\n",
    "# ax.set_title(\"Level interactions of \" + str(n) + \" most interacting players\")\n",
    "\n",
    "# nx.draw_networkx_nodes(big_n, pos, nodelist=level_nodes, node_color=\"#FF1E2D\", node_size=1)  \n",
    "# nx.draw_networkx_nodes(big_n, pos, nodelist=player_nodes, node_color=\"#3944BC\", node_size=4)                                                                                                        \n",
    "                                                                                                      \n",
    "# nx.draw_networkx_edges(big_n, pos)\n",
    "\n",
    "# plt.savefig(\"Level interaction of \" + str(n) + \" most interacting players.png\", dpi=800, format=\"PNG\")"
   ]
  },
  {
   "cell_type": "code",
   "execution_count": null,
   "metadata": {},
   "outputs": [],
   "source": []
  },
  {
   "cell_type": "code",
   "execution_count": null,
   "metadata": {},
   "outputs": [],
   "source": [
    "weighted_projection = bipartite.weighted_projected_graph(big_n, player_nodes)\n",
    "weighted_projection\n",
    "\n",
    "plt.figure(figsize=(12, 12))\n",
    "ax = plt.gca()\n",
    "ax.set_title('Level interaction of random 500 players')\n",
    "pos = nx.drawing.layout.random_layout(weighted_projection, seed = 10)\n",
    "# nx.draw_networkx_nodes(weighted_projection, pos, node_color=\"#3944BC\")   \n",
    "# nx.draw_networkx_labels(weighted_projection, pos)\n",
    "\n",
    "edge_labels=dict([((u,v,),d['weight'])\n",
    "             for u,v,d in weighted_projection.edges(data=True)])\n",
    "\n",
    "nx.draw(weighted_projection, pos, with_labels=True, connectionstyle='arc3', node_color = \"#3944BC\", font_weight='heavy')\n",
    "nx.draw_networkx_edge_labels(weighted_projection, \n",
    "                             pos, edge_labels=edge_labels, \n",
    "                             label_pos=0.5, font_size=10, \n",
    "                             font_weight='heavy', \n",
    "                             font_color=\"#3944BC\", \n",
    "                             bbox=dict(facecolor='white',edgecolor='none',alpha=1, pad=0.0))\n",
    "\n",
    "plt.draw()\n",
    "plt.show()"
   ]
  },
  {
   "cell_type": "code",
   "execution_count": null,
   "metadata": {},
   "outputs": [],
   "source": [
    "edge_weights =dict(edge_labels)\n",
    "{k: v for k, v in sorted(edge_weights.items(), key=lambda edge_weights: edge_weights[1], reverse=True)}"
   ]
  },
  {
   "cell_type": "code",
   "execution_count": null,
   "metadata": {},
   "outputs": [],
   "source": [
    "def random_n_players(players, plays, n):\n",
    "    #merge players df with plays df\n",
    "    player_game_interactions = pd.merge(players, plays.rename(columns={\"id\": \"level_id\"}), how=\"left\", left_on=\"id\", right_on=\"player\")\n",
    "    # Filter for random n players\n",
    "    n_random_players = random.sample(set(player_game_interactions[\"player\"]), 500)\n",
    "    n_player_interactions = player_game_interactions.loc[player_game_interactions['player'].isin(n_random_players)].reset_index(drop=True)\n",
    "    return n_player_interactions\n",
    "\n",
    "n_player_interactions = random_n_players(players, plays, 500)\n",
    "n_player_interactions.head()"
   ]
  },
  {
   "cell_type": "code",
   "execution_count": null,
   "metadata": {},
   "outputs": [],
   "source": [
    "random_n = nx.Graph()\n",
    "\n",
    "player_nodes = list(n_player_interactions[\"player\"].unique())\n",
    "level_nodes = list(n_player_interactions[\"level_id\"].unique())\n",
    "edges = n_player_interactions[[\"player\", \"level_id\"]].values.tolist()\n",
    "\n",
    "random_n.add_nodes_from(player_nodes)\n",
    "random_n.add_nodes_from(level_nodes)\n",
    "random_n.add_edges_from(edges)\n",
    "\n",
    "pos = nx.drawing.layout.spring_layout(random_n, seed=98)\n",
    "\n",
    "plt.figure(figsize=(14, 12))\n",
    "ax = plt.gca()\n",
    "ax.set_title('Level interaction of random 500 players')\n",
    "\n",
    "nx.draw_networkx_nodes(random_n, pos, nodelist=level_nodes, node_color=\"#FF1E2D\", node_size=1)  \n",
    "nx.draw_networkx_nodes(random_n, pos, nodelist=player_nodes, node_color=\"#3944BC\", node_size=1)                                                                                                        \n",
    "                                                                                                      \n",
    "nx.draw_networkx_edges(random_n, pos)\n",
    "\n",
    "plt.savefig(\"Level interaction of random 500 players.png\", dpi=800, format=\"PNG\")"
   ]
  },
  {
   "cell_type": "code",
   "execution_count": null,
   "metadata": {},
   "outputs": [],
   "source": []
  }
 ],
 "metadata": {
  "kernelspec": {
   "display_name": "Python 3",
   "language": "python",
   "name": "python3"
  },
  "language_info": {
   "codemirror_mode": {
    "name": "ipython",
    "version": 3
   },
   "file_extension": ".py",
   "mimetype": "text/x-python",
   "name": "python",
   "nbconvert_exporter": "python",
   "pygments_lexer": "ipython3",
   "version": "3.7.3"
  }
 },
 "nbformat": 4,
 "nbformat_minor": 2
}

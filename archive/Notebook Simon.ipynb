{
 "cells": [
  {
   "cell_type": "code",
   "execution_count": null,
   "metadata": {},
   "outputs": [],
   "source": [
    "#!pip install kaggle\n",
    "import os\n",
    "import networkx as nx\n",
    "import pandas as pd\n",
    "import numpy as np\n",
    "from pathlib import Path\n",
    "import zipfile\n",
    "import matplotlib.pyplot as plt\n",
    "from networkx.algorithms import bipartite\n",
    "import random\n",
    "import timeit\n",
    "import itertools\n",
    "import matplotlib.image as mpimg\n",
    "import urllib.request"
   ]
  },
  {
   "cell_type": "markdown",
   "metadata": {},
   "source": [
    "Data from: https://www.kaggle.com/leomauro/smmnet"
   ]
  },
  {
   "cell_type": "markdown",
   "metadata": {},
   "source": [
    "# Datenbeschaffung & Aufbereitung"
   ]
  },
  {
   "cell_type": "markdown",
   "metadata": {},
   "source": [
    "## Setup kaggle api"
   ]
  },
  {
   "cell_type": "code",
   "execution_count": null,
   "metadata": {},
   "outputs": [],
   "source": [
    "# Create .kaggle path in user dir if not exists\n",
    "if not os.path.exists(str(Path.home())+\"\\.kaggle\"):\n",
    "    os.makedirs(str(Path.home())+\"\\.kaggle\")"
   ]
  },
  {
   "cell_type": "markdown",
   "metadata": {},
   "source": [
    "Go to www.<span>kaggle.<span>com/**your_username**/account and download a new api-token. \n",
    "After downloading the json file needs to be put into the C:\\Users\\\\**username**\\\\.kaggle directory."
   ]
  },
  {
   "cell_type": "markdown",
   "metadata": {},
   "source": [
    "## Download dataset"
   ]
  },
  {
   "cell_type": "code",
   "execution_count": null,
   "metadata": {},
   "outputs": [],
   "source": [
    "# Check if folder already exists\n",
    "if not os.path.isdir('./data'):\n",
    "    \n",
    "    # if not create data folder\n",
    "    os.makedirs('./data') \n",
    "    \n",
    "    # download csv's\n",
    "    !kaggle datasets download -d \"leomauro/smmnet\" -p \"./data\""
   ]
  },
  {
   "cell_type": "markdown",
   "metadata": {},
   "source": [
    "## Unzip files"
   ]
  },
  {
   "cell_type": "code",
   "execution_count": null,
   "metadata": {},
   "outputs": [],
   "source": [
    "file_list = [\"clears.csv\",\"course-meta.csv\",\"courses.csv\",\"likes.csv\",\"players.csv\",\"plays.csv\",\"records.csv\"]\n",
    "files_exist = []\n",
    "\n",
    "# Check if all csv's exist\n",
    "for file in file_list:\n",
    "    files_exist.append(os.path.isfile(\"./data/\" + file))\n",
    "    \n",
    "# if not create csv's\n",
    "if not all(files_exist):\n",
    "    with zipfile.ZipFile(\"./data/smmnet.zip\", 'r') as zip_ref:\n",
    "        zip_ref.extractall(\"./data\") "
   ]
  },
  {
   "cell_type": "markdown",
   "metadata": {},
   "source": [
    "## Import files as Pandas DataFrame"
   ]
  },
  {
   "cell_type": "code",
   "execution_count": null,
   "metadata": {},
   "outputs": [],
   "source": [
    "clears = pd.read_csv(\"./data/clears.csv\", delimiter = \"\\t\")\n",
    "course_meta = pd.read_csv(\"./data/course-meta.csv\", delimiter = \"\\t\") # index_col=[\"id\",\"firstClear\"]\n",
    "courses = pd.read_csv(\"./data/courses.csv\", delimiter = \"\\t\")\n",
    "likes = pd.read_csv(\"./data/likes.csv\", delimiter = \"\\t\")\n",
    "players = pd.read_csv(\"./data/players.csv\", delimiter = \"\\t\")\n",
    "plays = pd.read_csv(\"./data/plays.csv\", delimiter = \"\\t\")\n",
    "records = pd.read_csv(\"./data/records.csv\", delimiter = \"\\t\")"
   ]
  },
  {
   "cell_type": "markdown",
   "metadata": {},
   "source": [
    "# Data Validation"
   ]
  },
  {
   "cell_type": "code",
   "execution_count": null,
   "metadata": {},
   "outputs": [],
   "source": []
  },
  {
   "cell_type": "markdown",
   "metadata": {},
   "source": [
    "# EDA"
   ]
  },
  {
   "cell_type": "markdown",
   "metadata": {},
   "source": [
    "### Welche Nationalitäten sind unter den Spielern am häuffingsten vertreten?"
   ]
  },
  {
   "cell_type": "code",
   "execution_count": null,
   "metadata": {},
   "outputs": [],
   "source": [
    "def player_nationalities(players, top_n):\n",
    "    nationalities = players.copy()\n",
    "    nationalities[\"count\"] = 1\n",
    "    nationalities = nationalities.groupby(\"flag\").count()[\"count\"].sort_values(ascending=False)\n",
    "    top_nationalities = nationalities[0:top_n].append(pd.Series(nationalities[top_n:].sum()))\n",
    "    new_index = list(top_nationalities.index)\n",
    "    new_index[-1] = \"Others\"\n",
    "    top_nationalities.index=new_index\n",
    "\n",
    "    plt.bar(x=top_nationalities.index, height=top_nationalities, color=\"#FF1E2D\")\n",
    "    plt.title(\"Nr of Players by Nationality\")\n",
    "    plt.xlabel(\"Country\")\n",
    "    plt.ylabel(\"count [n]\")\n",
    "    plt.show()\n",
    "    \n",
    "    return top_nationalities\n",
    "\n",
    "print(player_nationalities(players, top_n=10))"
   ]
  },
  {
   "cell_type": "markdown",
   "metadata": {},
   "source": [
    "Im Datensatz befinden sich zu je einem Drittel US-Amerikanische und Japanische Spieler. Danach folgen Frankreich (5.6%), Deutschland (5.4) und Kanada (5.2%). Insgesammt enthällt der Datensatz 884302 Spielerprofile aus 82 verschidenen Nationen."
   ]
  },
  {
   "cell_type": "markdown",
   "metadata": {},
   "source": [
    "### Wie sieht die Schwierigkeitsverteilung der kreierten Levels aus?"
   ]
  },
  {
   "cell_type": "code",
   "execution_count": null,
   "metadata": {
    "scrolled": false
   },
   "outputs": [],
   "source": [
    "def level_difficilties():\n",
    "    course_difficulties = courses.groupby(\"difficulty\").count()\n",
    "    colors = [\"#2CB01A\",\"#FBD000\", \"#FF1E2d\", \"#000000\"]\n",
    "    plt.bar(x=[\"easy\", \"normal\", \"expert\", \"superExpert\"], height=course_difficulties[\"id\"], color = colors)\n",
    "    plt.title(\"Nr of Levels by Difficulty\")\n",
    "    plt.xlabel(\"Difficulty\")\n",
    "    plt.ylabel(\"count [n]\")\n",
    "    plt.show()\n",
    "    \n",
    "level_difficilties()"
   ]
  },
  {
   "cell_type": "markdown",
   "metadata": {},
   "source": [
    "Die einzelnen Levels können einer von vier ordinalen Schwierigkeitsstufen zugeordnet werden. Die Reihenfolge in aufsteigender Schwierigkeit lautet: easy < normal < expert < superExpert. Die relativen Anteile der Kathegorien lauten: Zu 26 Prozent easy, 24 Prozent normal, 45 Prozent hard und zu 5 Prozent superHard.\n"
   ]
  },
  {
   "cell_type": "markdown",
   "metadata": {},
   "source": [
    "# Social Network Analysis"
   ]
  },
  {
   "cell_type": "code",
   "execution_count": null,
   "metadata": {},
   "outputs": [],
   "source": []
  },
  {
   "cell_type": "markdown",
   "metadata": {},
   "source": [
    "## Player-Level interaction"
   ]
  },
  {
   "cell_type": "markdown",
   "metadata": {},
   "source": [
    "The dataset contains the two tables \"players\" which contains all players and the table \"plays\" which contains all interactions of these players with a level. If we merge these two datasets together, we are able to create a network of all interactions between players and levels"
   ]
  },
  {
   "cell_type": "markdown",
   "metadata": {},
   "source": [
    "### Create Graph"
   ]
  },
  {
   "cell_type": "code",
   "execution_count": null,
   "metadata": {},
   "outputs": [],
   "source": [
    "#merge players df with plays df\n",
    "player_game_interactions = pd.merge(players, plays.rename(columns={\"id\": \"level_id\"}), how=\"left\", left_on=\"id\", right_on=\"player\")\n",
    "\n",
    "player_level_interactions = nx.Graph()\n",
    "\n",
    "player_nodes = list(player_game_interactions[\"id\"].unique())\n",
    "level_nodes = list(player_game_interactions[\"level_id\"].unique())\n",
    "edges = player_game_interactions[[\"player\", \"level_id\"]].values.tolist()\n",
    "\n",
    "player_level_interactions.add_nodes_from(player_nodes)\n",
    "player_level_interactions.add_nodes_from(level_nodes)\n",
    "player_level_interactions.add_edges_from(edges)"
   ]
  },
  {
   "cell_type": "code",
   "execution_count": null,
   "metadata": {},
   "outputs": [],
   "source": [
    "print(nx.info(player_level_interactions))\n",
    "print(\"Average level_node degree:\",np.mean(list(dict(player_level_interactions.degree(level_nodes)).values())))\n",
    "print(\"Average player_node degree:\",np.mean(list(dict(player_level_interactions.degree(player_nodes)).values())))"
   ]
  },
  {
   "cell_type": "markdown",
   "metadata": {},
   "source": [
    "The graph has a total of 999'335 nodes (players + levels) and 3'941'379 edges. The average node degree is 7.89. Due to the large number of nodes, it is not possible to visualize the complete graph for reasons of overview and lack of computing power. However, we can examine the graph more closely for it's attributes."
   ]
  },
  {
   "cell_type": "markdown",
   "metadata": {},
   "source": [
    "### Node degrees \n",
    "Die Node-Degrees der einzelnen Spieler entspricht der Anzahl an gespielten Levels. In einem ersten Versuch wollten wir die node degrees mit der in networkx vorhandenen Funktion \"bipartite.degrees()\" bestimmen. Das dauerte jedoch zu lange."
   ]
  },
  {
   "cell_type": "code",
   "execution_count": null,
   "metadata": {},
   "outputs": [],
   "source": [
    "def plot_player_degrees_nx(player_game_interactions):\n",
    "    '''Calculates node degrees from a bipartie graph and viszalizes them using a histogramm'''\n",
    "    # Braucht zu lange.\n",
    "    deg_levels, deg_players = bipartite.degrees(player_level_interactions, player_nodes)\n",
    "    deg_players = dict(deg_players)\n",
    "    plt.bar(list(deg_players.keys()), deg_players.values(), color=\"#3944BC\")\n",
    "    plt.show()"
   ]
  },
  {
   "cell_type": "markdown",
   "metadata": {},
   "source": [
    "Alternativ wurden die nodedegrees deshalb direkt aus dem ursprünglichen Pandas-Dataframe errechnet."
   ]
  },
  {
   "cell_type": "code",
   "execution_count": null,
   "metadata": {},
   "outputs": [],
   "source": [
    "def plot_player_degrees_pd(player_game_interactions):\n",
    "    '''Calculates node degrees and viszalizes them using a histogramm'''\n",
    "    data = player_game_interactions.groupby(\"id\").count().reset_index().rename(columns={\"player\": \"interactions\"})\n",
    "\n",
    "    plt.figure(figsize=(12, 6))\n",
    "    plt.hist(data[\"interactions\"], bins=range(min(data[\"interactions\"]), max(data[\"interactions\"]) + 1, 1), color=\"#3944BC\")\n",
    "    plt.yscale('log')\n",
    "    plt.title(\"Distribution of level interactions per player\")\n",
    "    plt.xlabel(\"Nr of level interactions\")\n",
    "    plt.ylabel(\"count [n]\")\n",
    "    plt.show()\n",
    "    return data.drop(columns=[\"image\",\"flag\",\"name\",\"catch\",\"level_id\"]).sort_values(\"interactions\", ascending=False).reset_index(drop=True)\n",
    "    \n",
    "node_degrees = plot_player_degrees_pd(player_game_interactions)\n",
    "print(\"Quantiles:\")\n",
    "print(node_degrees[\"interactions\"].quantile([0,0.25,0.5,0.75,1]))"
   ]
  },
  {
   "cell_type": "markdown",
   "metadata": {},
   "source": [
    "Im Histogramm sehen wir, dass die meisten Spieler nur mit sehr wenigen Levels interagiert haben. 75 Prozent der Spieler haben vier oder weniger Levels gespielt. Der mediane Node Degree ist nur bei 2. Es gibt aber einen kleinen anteil an Spielern, welche mit sehr vielen Levels interagiert haben. Als nächstes suchen wir nach allen Spielern welche mehr als 1000 Levelinteraktionen haben."
   ]
  },
  {
   "cell_type": "code",
   "execution_count": null,
   "metadata": {},
   "outputs": [],
   "source": [
    "print(\"10 most interactive players:\\n\")\n",
    "print(node_degrees.loc[node_degrees[\"interactions\"]>=1000])"
   ]
  },
  {
   "cell_type": "markdown",
   "metadata": {},
   "source": [
    "Der Aktivste Spieler hat insgesammt 2681 unterschiedliche Levels gespielt. Insgesammt befinden sich im Datensatz 12 Spieler welche mit mindestens 1000 Levels interagiert haben."
   ]
  },
  {
   "cell_type": "markdown",
   "metadata": {},
   "source": [
    "### Local View Top 12 active players two-mode"
   ]
  },
  {
   "cell_type": "code",
   "execution_count": null,
   "metadata": {},
   "outputs": [],
   "source": [
    "def top_n_players(players, plays, n):\n",
    "    '''selects n players with most level interactions and returns a dataframe containing these level interactions and players'''\n",
    "    #merge players df with plays df\n",
    "    player_game_interactions = pd.merge(players, plays.rename(columns={\"id\": \"level_id\"}), how=\"left\", left_on=\"id\", right_on=\"player\")\n",
    "    #Level interaction of top n interacting players\n",
    "    top_n_players = player_game_interactions.groupby(\"player\").count().nlargest(n,'id').reset_index()[\"player\"].tolist()\n",
    "    n_player_interactions = player_game_interactions.loc[player_game_interactions['player'].isin(top_n_players)].reset_index(drop=True)\n",
    "    return n_player_interactions\n",
    "\n",
    "n = 12\n",
    "n_player_interactions = top_n_players(players, plays, n)"
   ]
  },
  {
   "cell_type": "code",
   "execution_count": null,
   "metadata": {},
   "outputs": [],
   "source": [
    "big_n = nx.Graph()\n",
    "\n",
    "player_nodes = list(n_player_interactions[\"player\"].unique())\n",
    "level_nodes = list(n_player_interactions[\"level_id\"].unique())\n",
    "edges = n_player_interactions[[\"player\", \"level_id\"]].values.tolist()\n",
    "\n",
    "\n",
    "big_n.add_nodes_from(player_nodes)\n",
    "big_n.add_nodes_from(level_nodes)\n",
    "big_n.add_edges_from(edges, weight=0.5)\n",
    "\n",
    "pos = nx.drawing.layout.spring_layout(big_n, seed=28)\n",
    "\n",
    "plt.figure(figsize=(20, 20))\n",
    "ax = plt.gca()\n",
    "ax.set_title(\"Level interactions of \" + str(n) + \" most interacting players\")\n",
    "\n",
    "nx.draw_networkx_nodes(big_n, pos, nodelist=level_nodes, node_color=\"#FF1E2D\", node_size=1)  \n",
    "nx.draw_networkx_nodes(big_n, pos, nodelist=player_nodes, node_color=\"#3944BC\", node_size=8)                                                                                                        \n",
    "                                                                                                      \n",
    "nx.draw_networkx_edges(big_n, pos)\n",
    "\n",
    "# plt.savefig(\"Level interaction of \" + str(n) + \" most interacting players.png\", dpi=800, format=\"PNG\")"
   ]
  },
  {
   "cell_type": "markdown",
   "metadata": {},
   "source": [
    "### Local View Top 12 active players one-mode"
   ]
  },
  {
   "cell_type": "code",
   "execution_count": null,
   "metadata": {},
   "outputs": [],
   "source": [
    "weighted_projection = bipartite.weighted_projected_graph(big_n, player_nodes)\n",
    "print(weighted_projection)\n",
    "\n",
    "plt.figure(figsize=(12, 12))\n",
    "ax = plt.gca()\n",
    "ax.set_title('Level interaction of random 500 players')\n",
    "pos = nx.drawing.layout.random_layout(weighted_projection, seed = 10)\n",
    "# nx.draw_networkx_nodes(weighted_projection, pos, node_color=\"#3944BC\")   \n",
    "# nx.draw_networkx_labels(weighted_projection, pos)\n",
    "\n",
    "edge_labels=dict([((u,v,),d['weight'])\n",
    "             for u,v,d in weighted_projection.edges(data=True)])\n",
    "\n",
    "nx.draw(weighted_projection, pos, with_labels=True, connectionstyle='arc3', node_color = \"#3944BC\", font_weight='heavy')\n",
    "nx.draw_networkx_edge_labels(weighted_projection, \n",
    "                             pos, edge_labels=edge_labels, \n",
    "                             label_pos=0.5, font_size=10, \n",
    "                             font_weight='heavy', \n",
    "                             font_color=\"#3944BC\", \n",
    "                             bbox=dict(facecolor='white',edgecolor='none',alpha=1, pad=0.0))\n",
    "\n",
    "plt.draw()\n",
    "plt.show()"
   ]
  },
  {
   "cell_type": "code",
   "execution_count": null,
   "metadata": {},
   "outputs": [],
   "source": [
    "edge_weights =dict(edge_labels)\n",
    "{k: v for k, v in sorted(edge_weights.items(), key=lambda edge_weights: edge_weights[1], reverse=True)}"
   ]
  },
  {
   "cell_type": "code",
   "execution_count": null,
   "metadata": {},
   "outputs": [],
   "source": [
    "def random_n_players(players, plays, n):\n",
    "    #merge players df with plays df\n",
    "    player_game_interactions = pd.merge(players, plays.rename(columns={\"id\": \"level_id\"}), how=\"left\", left_on=\"id\", right_on=\"player\")\n",
    "    # Filter for random n players\n",
    "    n_random_players = random.sample(set(player_game_interactions[\"player\"]), n)\n",
    "    n_player_interactions = player_game_interactions.loc[player_game_interactions['player'].isin(n_random_players)].reset_index(drop=True)\n",
    "    return n_player_interactions\n",
    "\n",
    "n_player_interactions = random_n_players(players, plays, int(len(players)/100))\n",
    "n_player_interactions.head()"
   ]
  },
  {
   "cell_type": "code",
   "execution_count": null,
   "metadata": {},
   "outputs": [],
   "source": [
    "random_n = nx.Graph()\n",
    "\n",
    "player_nodes = list(n_player_interactions[\"player\"].unique())\n",
    "level_nodes = list(n_player_interactions[\"level_id\"].unique())\n",
    "edges = n_player_interactions[[\"player\", \"level_id\"]].values.tolist()\n",
    "\n",
    "random_n.add_nodes_from(player_nodes)\n",
    "random_n.add_nodes_from(level_nodes)\n",
    "random_n.add_edges_from(edges)\n",
    "\n",
    "pos = nx.drawing.layout.spring_layout(random_n, seed=98)\n",
    "\n",
    "plt.figure(figsize=(25, 25))\n",
    "ax = plt.gca()\n",
    "ax.set_title('Level interaction of random 1 percent of players')\n",
    "\n",
    "nx.draw_networkx_nodes(random_n, pos, nodelist=level_nodes, node_color=\"#FF1E2D\", node_size=1)  \n",
    "nx.draw_networkx_nodes(random_n, pos, nodelist=player_nodes, node_color=\"#3944BC\", node_size=1)                                                                                                        \n",
    "                                                                                                      \n",
    "nx.draw_networkx_edges(random_n, pos)\n",
    "\n",
    "\n",
    "\n",
    "plt.savefig('./images/Level interaction of random 1 percent of players.png', dpi=800, format=\"png\")\n",
    "plt.draw()\n",
    "plt.show()"
   ]
  },
  {
   "cell_type": "markdown",
   "metadata": {},
   "source": [
    "## Likes Network"
   ]
  },
  {
   "cell_type": "code",
   "execution_count": null,
   "metadata": {},
   "outputs": [],
   "source": [
    "print(\"The \\\"Likes\\\" table contains \" + str(len(likes)) + \" likes from \" + str(len(likes[\"player\"].unique())) + \" different players\")"
   ]
  },
  {
   "cell_type": "markdown",
   "metadata": {},
   "source": [
    "Als erstes möchten wir untersuchen, wie viele Spieler im Datensatz auch tatsächlich likes bei levels hinterlassen. Um das zu erreichen müssen die Likes pro Spieler gezählt werden. Die Anzahl Likes pro Spieler entsprechen im folgenden Graph dann den Node-Degrees der Spieler."
   ]
  },
  {
   "cell_type": "code",
   "execution_count": null,
   "metadata": {},
   "outputs": [],
   "source": [
    "player_likes = likes[[\"player\",\"id\"]].groupby(\"player\").count().reset_index().rename(columns={\"id\":\"levelsLiked\"})\n",
    "player_likes = pd.merge(players, player_likes, how=\"left\", left_on=\"id\", right_on=\"player\").drop(columns=\"player\")\n",
    "player_likes[\"levelsLiked\"] = player_likes[\"levelsLiked\"].fillna(0)\n",
    "\n",
    "rating_player_ratio = len(player_likes.loc[player_likes[\"levelsLiked\"]!=0]) / len(player_likes)\n",
    "print(\"Has rated: \" + str(round(rating_player_ratio*100, 2)) + \"%\")\n",
    "print(\"Not rated: \" + str(100-round(rating_player_ratio*100, 2)) + \"%\")"
   ]
  },
  {
   "cell_type": "markdown",
   "metadata": {},
   "source": [
    "Von allen Spielern im Datensatz haben 20,6 Prozent (Jeder 5te Spieler) mindestens ein Level bewertet. Entsprechend hinterlässt die Mehrheit der Spieler, 80 Prozent keine Bewertungen. Um ein genaueres Bild der Node-degrees aller Spieler im \"Likes Netzwerk\" zu erhalten werden diese im Nächsten Schritt als Histogramm angezeigt."
   ]
  },
  {
   "cell_type": "code",
   "execution_count": null,
   "metadata": {},
   "outputs": [],
   "source": [
    "plt.figure(figsize=(12, 6))\n",
    "plt.hist(player_likes[\"levelsLiked\"], bins=range(int(min(player_likes[\"levelsLiked\"])), int(max(player_likes[\"levelsLiked\"])) + 1, 1),color=\"#3944BC\")\n",
    "plt.yscale('log')\n",
    "plt.title(\"Distribution of Nr of level liked by players\")\n",
    "plt.xlabel(\"likes\")\n",
    "plt.ylabel(\"players [n]\")\n",
    "plt.show()\n",
    "\n",
    "print(\"Quantiles:\")\n",
    "print(player_likes[\"levelsLiked\"].quantile([0,0.25,0.5,0.75,0.8,0.9,0.95,0.99,0.999,1]))"
   ]
  },
  {
   "cell_type": "markdown",
   "metadata": {},
   "source": [
    "Wenn wir das Histogramm betrachten, dann sehen wir die Verteilung der Anzahl Levelbewertungen pro Spieler. Wir erkennen nun noch deutlicher, dass ein grosser Teil keine oder nur wenige Likes abgegeben hat. Es gibt jedoch einen sehr kleinen Anteil an Spielern welche sehr viel Bewertet haben. Der Spieler mit den meisten Likes hat insgesammt 3365 Levels geliked. Diese Zahl ist grösser wir die maximale Anzahl an gespielten Levels und kann dadurch erklährt werden, dass ein Level nicht gespielt werden muss, damit der Spieler ein Like hinterlassen kann. Als nächstes möchten wor das Like netzwerk als Graph generieren."
   ]
  },
  {
   "cell_type": "markdown",
   "metadata": {},
   "source": [
    "### Pre-filtering\n",
    "Aus effizienzgründen werden Spieler mit nur wenigen Likes herausgefiltert."
   ]
  },
  {
   "cell_type": "code",
   "execution_count": null,
   "metadata": {},
   "outputs": [],
   "source": [
    "def minimal_likes(df, n):\n",
    "    # input: Likes table\n",
    "    # output Likes table with only players having at least n likes\n",
    "    min_likes = df.groupby(\"player\").count().rename(columns={\"catch\": \"likes\"}).drop(columns=\"id\")\n",
    "    min_likes = min_likes.loc[min_likes[\"likes\"] >= n].sort_values(\"likes\").index.tolist()\n",
    "    df = df.loc[df[\"player\"].isin(min_likes)].sort_values(\"player\").reset_index(drop=True)\n",
    "    return df\n",
    "\n",
    "likes_50 = minimal_likes(likes, 50)"
   ]
  },
  {
   "cell_type": "markdown",
   "metadata": {},
   "source": [
    "### Graph generation"
   ]
  },
  {
   "cell_type": "code",
   "execution_count": null,
   "metadata": {},
   "outputs": [],
   "source": [
    "def generate_bi_graph(df, nodes_1, nodes_2):\n",
    "    '''Generates a two node network'''\n",
    "    G = nx.Graph()\n",
    "    \n",
    "    n_1 = list(df[nodes_1].unique())\n",
    "    n_2 = list(df[nodes_2].unique())\n",
    "    edges = df[[nodes_1, nodes_2]].values.tolist()\n",
    "    \n",
    "    G.add_nodes_from(n_1)\n",
    "    G.add_nodes_from(n_2)\n",
    "    G.add_edges_from(edges)\n",
    "    return G, n_1, n_2\n",
    "\n",
    "\n",
    "G_likes, player_nodes, level_nodes = generate_bi_graph(likes_50, \"player\", \"id\")\n",
    "\n",
    "plr, lvl = bipartite.sets(G_likes)\n",
    "print(\"Nr of Players (nodes):\", len(plr))\n",
    "print(\"Nr of Levels (nodes):\", len(lvl))\n",
    "print(\"Nr of likes (edges)\", len(G_likes.edges))"
   ]
  },
  {
   "cell_type": "markdown",
   "metadata": {},
   "source": [
    "Der two-nodes Graph \"G_likes\" besteht aus insgesammt 1326 Spieler welche insgesammt 210842 Likes bei 51346 verschiedene Levels hinterlegt haben. In einem nächsten schritt wird dieser Graph in ein one-mode Netzwerk umgewandelt, wobei die Knoten die einzelnen Spieler repräsentieren. Die Kantengewichte zwischen zwei Spielern beschreiben das Verhältnis der levels welche von beiden Knoten gemeinsam geliked wurden, errechnet mit dem Jaccard-Index: $w_{u,v} = \\frac{N(u)\\cap N(u)}{N(u)\\cup N(u)}$"
   ]
  },
  {
   "cell_type": "code",
   "execution_count": null,
   "metadata": {},
   "outputs": [],
   "source": [
    "if not os.path.isfile(\"./data/pickle/G_similar_likes.gpickle\"):\n",
    "    # Transform to one node network\n",
    "    G_similar_likes = bipartite.overlap_weighted_projected_graph(G_likes, player_nodes) #overlap using jaccard coefficient of neighborhoods\n",
    "    G_similar_likes.edges()\n",
    "    # Save as pickle\n",
    "    nx.write_gpickle(G_similar_likes, \"./data/pickle/G_similar_likes.gpickle\") \n",
    "else:\n",
    "    # Load file\n",
    "    G_similar_likes = nx.read_gpickle(\"./data/pickle/G_similar_likes.gpickle\")\n",
    "\n",
    "# edge_labels=dict([((u,v,),round(d['weight'],3)) for u,v,d in G_similar_likes.edges(data=True)])\n",
    "\n",
    "# # Draw network\n",
    "# plt.figure(figsize=(10, 10))\n",
    "# ax = plt.gca()\n",
    "# ax.set_title('Proportion of same liked levels')\n",
    "# pos = nx.drawing.layout.random_layout(G_similar_likes)\n",
    "\n",
    "# nx.draw(G_similar_likes, pos, with_labels=True, connectionstyle='arc3', node_color = \"#3944BC\", font_weight='heavy')\n",
    "# nx.draw_networkx_edge_labels(G_similar_likes, \n",
    "#                              pos, edge_labels=edge_labels, \n",
    "#                              label_pos=0.5, font_size=10, \n",
    "#                              font_weight='heavy', \n",
    "#                              font_color=\"#3944BC\", \n",
    "#                              bbox=dict(facecolor='white',edgecolor='none',alpha=0, pad=0.0))\n",
    "\n",
    "      \n",
    "# plt.draw()\n",
    "# plt.show()\n",
    "\n",
    "print(\"Nr of Players (nodes):\", len(G_similar_likes.nodes))\n",
    "print(\"Nr of similarities (edges)\", len(G_similar_likes.edges))"
   ]
  },
  {
   "cell_type": "markdown",
   "metadata": {},
   "source": [
    "### Filter for players with similarities > 0.2"
   ]
  },
  {
   "cell_type": "markdown",
   "metadata": {},
   "source": [
    "Da wir nach Spielern mit gemeinsamen Interessen suchen macht es Sinn, Kannten unter einem gewissen Schwellenwert zu eliminieren, da diese Spieler eine zu kleine Gemsinsamkeit zueinander haben. Wir definieren diesen Schwellenwert hier auf 0.2 = mind. 20 Prozent der Levels welche Zwei Spieler geliked haben müssen gleich sein, ansonsten gelten sie nicht als ähnlich und die Kante wird eliminiert. Dadurch erhalten wir den folgenden Graph:"
   ]
  },
  {
   "cell_type": "code",
   "execution_count": null,
   "metadata": {},
   "outputs": [],
   "source": [
    "# Load grahp\n",
    "G_similar_likes = nx.read_gpickle(\"./data/pickle/G_similar_likes.gpickle\")\n",
    "\n",
    "# remove edges with edge weight < 0.2\n",
    "edge_weights = nx.get_edge_attributes(G_similar_likes,'weight')\n",
    "G_similar_likes.remove_edges_from((e for e, w in edge_weights.items() if w <0.2))\n",
    "\n",
    "# remove isolated nodes\n",
    "G_similar_likes.remove_nodes_from(list(nx.isolates(G_similar_likes))) \n",
    "\n",
    "# Create edge labels\n",
    "edge_labels=dict([((u,v,),round(d['weight'],2)) for u,v,d in G_similar_likes.edges(data=True)])\n",
    "\n",
    "# Draw graph\n",
    "plt.figure(figsize=(20, 20))\n",
    "ax = plt.gca()\n",
    "ax.set_title('Proportion of same liked levels')\n",
    "pos = nx.drawing.layout.spring_layout(G_similar_likes, seed=1)\n",
    "nx.draw(G_similar_likes, pos, with_labels=True, connectionstyle='arc3', node_color = \"#3944BC\", font_weight='heavy', font_size=3, node_size=50)\n",
    "nx.draw_networkx_edge_labels(G_similar_likes, \n",
    "                             pos, edge_labels=edge_labels, \n",
    "                             label_pos=0.55, font_size=3, \n",
    "                             font_weight='heavy', \n",
    "                             font_color=\"#3944BC\", \n",
    "                             bbox=dict(facecolor='white',edgecolor='none',alpha=1, pad=0.0))\n",
    "\n",
    "plt.draw()\n",
    "plt.show()"
   ]
  },
  {
   "cell_type": "code",
   "execution_count": null,
   "metadata": {},
   "outputs": [],
   "source": [
    "edge_weights =dict(edge_labels)\n",
    "similarities = {k: v for k, v in sorted(edge_weights.items(), key=lambda edge_weights: edge_weights[1], reverse=True)}\n",
    "plt.hist(similarities.values(), bins=20)\n",
    "similarities.values()\n",
    "\n",
    "for i in range(5):\n",
    "    print(list(similarities.keys())[i], similarities[list(similarities.keys())[i]])\n",
    "\n",
    "print(\"\\nQuantile\", \"Value\")\n",
    "for i, j in enumerate(np.quantile(list(similarities.values()), np.array(range(0,11,1))/10)):\n",
    "    print(i/10,\"    \", j)"
   ]
  },
  {
   "cell_type": "markdown",
   "metadata": {},
   "source": [
    "### Visualizing connected components\n",
    "Wir können dieses Netzwerk nun auf verschiedene Attribute untersuchen. Um dieses noch übersichtlicher darzustellen werden die einzelnen Connected Components unterschiedlich einfärben."
   ]
  },
  {
   "cell_type": "code",
   "execution_count": null,
   "metadata": {},
   "outputs": [],
   "source": [
    "colors = [\"tomato\",\"skyblue\",\"limegreen\",\"gold\",\"slateblue\",\"turquoise\",\"cornflowerblue\",\n",
    "          \"hotpink\",\"yellowgreen\",\"orchid\",\"peru\",\"lightsalmon\",\"thistle\",\"darkkhaki\",\n",
    "          \"lightsteelblue\",\"orange\",\"forestgreen\",\"slategrey\"]*round(nx.number_connected_components(G_similar_likes)/18+0.5)\n",
    "\n",
    "# Draw graph\n",
    "plt.figure(figsize=(20, 20))\n",
    "ax = plt.gca()\n",
    "ax.set_title('Proportion of same liked levels')\n",
    "pos = nx.drawing.layout.spring_layout(G_similar_likes, seed=1)\n",
    "for i, component in enumerate(nx.connected_components(G_similar_likes)):\n",
    "    nx.draw(G_similar_likes, pos, with_labels=True, nodelist=component, connectionstyle='arc3', node_color=colors[i], font_size=2, node_size=50)\n",
    "    for j in component:\n",
    "        edge_labels=dict([((u,v,),round(d['weight'],3)) for u,v,d in G_similar_likes.edges(data=True) if (u == j) or (v == j)])\n",
    "        nx.draw_networkx_edge_labels(G_similar_likes, \n",
    "                             pos, edge_labels=edge_labels, \n",
    "                             label_pos=0.55, font_size=2, \n",
    "                             font_weight='heavy', \n",
    "                             font_color=colors[i], \n",
    "                             bbox=dict(facecolor='white',edgecolor='none',alpha=1, pad=0.0))\n",
    "               \n",
    "plt.savefig(\"./images/likes_connected_components.png\", dpi=800, format=\"PNG\")\n",
    "\n",
    "\n",
    "plt.draw()\n",
    "plt.show()"
   ]
  },
  {
   "cell_type": "code",
   "execution_count": null,
   "metadata": {},
   "outputs": [],
   "source": [
    "print(\"Nr of connected components:\", nx.number_connected_components(G_similar_likes))\n",
    "cpnt = [len(c) for c in sorted(nx.connected_components(G_similar_likes), key=len, reverse=True)]\n",
    "print(\"Component sizes:\", cpnt)\n",
    "print(\"Giant component ratio:\", round(cpnt[0]/sum(cpnt),3))"
   ]
  },
  {
   "cell_type": "markdown",
   "metadata": {},
   "source": [
    "Das neue gefilterte Netzwerk besteht aus insgesammt 45 Connected Comonents. Der \"Giant component\" besteht aus 140 Spielern und beinhaltet knapp 50 Prozent aller Knotem im gefilterten Netzwerk."
   ]
  },
  {
   "cell_type": "code",
   "execution_count": null,
   "metadata": {},
   "outputs": [],
   "source": [
    "components = [c for c in sorted(nx.connected_components(G_similar_likes), key=len, reverse=True)]"
   ]
  },
  {
   "cell_type": "code",
   "execution_count": null,
   "metadata": {
    "scrolled": false
   },
   "outputs": [],
   "source": [
    "Gcc = sorted(nx.connected_components(G_similar_likes), key=len, reverse=True)\n",
    "G0 = G_similar_likes.subgraph(Gcc[0])\n",
    "\n",
    "\n",
    "plt.figure(figsize=(14, 14))\n",
    "ax = plt.gca()\n",
    "ax.set_title('Proportion of same liked levels')\n",
    "pos = nx.drawing.layout.spring_layout(G0, seed=45)\n",
    "\n",
    "edge_labels=dict([((u,v,),round(d['weight'],2)) for u,v,d in G0.edges(data=True)])\n",
    "\n",
    "\n",
    "\n",
    "nx.draw(G0, pos, with_labels=True, connectionstyle='arc3', node_color = \"#3944BC\", font_weight='heavy', font_size=10)\n",
    "\n",
    "nx.draw_networkx_edge_labels(G0, \n",
    "                             pos, edge_labels=edge_labels, \n",
    "                             label_pos=0.55, font_size=3, \n",
    "                             font_weight='heavy', \n",
    "                             font_color=\"#3944BC\", \n",
    "                             bbox=dict(facecolor='white',edgecolor='none',alpha=1, pad=0.0))\n",
    "\n",
    "\n",
    "plt.draw()\n",
    "plt.show()"
   ]
  },
  {
   "cell_type": "markdown",
   "metadata": {},
   "source": [
    "### Recommending levels based on cliques"
   ]
  },
  {
   "cell_type": "markdown",
   "metadata": {},
   "source": [
    "Wenn wir nun annehmen, dass Spieler die ein ähnliches Like-Verhalten besitzen auch ähnliche interessen haben, so kann es sich lohnen nach Levels zu suchen, welche vom Ausgangsknoten noch nicht gespielt wurden, jedoch von vielen direkten Nachbarn \"geliked\" wurden. Diese könnten dann als potentielle Levelempfehlungen für den jeweiligen Spieler verwendet werden.\n",
    "\n",
    "Die Funktion get_cliques(G, n) erzeugt ein dictionary mit allen möglichen cliques mit n Knoten.\n",
    "Die Funktion get_player_cliques(clique_list, player) filtert dann nach cliques eines bestimmten Knotens.\n",
    "Die Funktion popular_amomg_clique_members(likes, clique_list, player) sucht anschliessent pro Clique nach levels welche von allen Knoten ausser dem Aussgangsknoten geliked wurden und gibt diese Cliqueübergreiffend als Liste zurück.\n",
    "Die funktion not_jet_played(plays, level_list, player) filtert nun noch alle Levels heraus, welche vom Spieler laut \"plays\" bereits gespielt wurden und gibt eine Liste zurück, welche potentielle Levelempfehlungen beinhaltet. \n",
    "\n",
    "Die Mindestanzahl an Likes die ein Level von direkt benachbarten Knoten benötigt um potenziell empfohlen zu werden passt sich der Cliquengrösse an und entspricht der Cliquengrösse - 1."
   ]
  },
  {
   "cell_type": "code",
   "execution_count": null,
   "metadata": {},
   "outputs": [],
   "source": [
    "def get_cliques(G, n):\n",
    "    '''returns all possible cliques with n nodes of graph G'''\n",
    "    cliques_G = nx.find_cliques(G)\n",
    "    return set(sum([list(itertools.combinations(set(clq), n)) for clq in cliques_G if len(clq)>=n],[]))\n",
    "\n",
    "def get_player_cliques(clique_list, player):\n",
    "    '''takes a list of cliques and returns cliques with a specified player'''\n",
    "    return [clq for clq in clique_list if player in clq]\n",
    "\n",
    "def popular_amomg_clique_members(likes, clique_list, player):\n",
    "    '''returns all levels that all other clique members of a player have liked except the player'''\n",
    "    recommended = []\n",
    "    player_cliques = get_player_cliques(clique_list, player)\n",
    "    for clq in player_cliques:\n",
    "        popular = likes.loc[likes[\"player\"].isin(clq)].groupby(\"id\").count()\n",
    "        popular = list(popular.loc[popular[\"catch\"] == len(clq)-1].index)\n",
    "        already_played = list(likes.loc[likes[\"player\"]==player][\"id\"])\n",
    "        new_levels = [level for level in popular if level not in already_played]\n",
    "        return list(set().union(recommended, new_levels))\n",
    "\n",
    "def not_jet_played(plays, level_list, player):\n",
    "    '''returns levels from a given list that the player has not played jet'''\n",
    "    played_levels = list(plays.loc[plays[\"player\"]==player][\"id\"])\n",
    "    return [lvl for lvl in level_list if lvl not in played_levels]\n",
    "\n",
    "\n",
    "player = \"cowboye123\"\n",
    "clique_size = 7\n",
    "\n",
    "cliques = get_cliques(G_similar_likes, clique_size)\n",
    "print(\"Nr of \" + str(clique_size) + \"-node cliques: \" + str(len(cliques)))\n",
    "promising_levels = popular_amomg_clique_members(likes, cliques, \"cowboye123\")\n",
    "if promising_levels==None:\n",
    "    print(\"No levels found for \"+ str(player) +\" with at least \" + str(clique_size-1) +\" likes. Try smaller cliques.\")\n",
    "else:\n",
    "    recommendation = not_jet_played(plays, promising_levels, \"cowboye123\")\n",
    "    print(\"Recommended levels for \" + player + \":\\n\", recommendation)"
   ]
  },
  {
   "cell_type": "markdown",
   "metadata": {},
   "source": [
    "## Important Level creators"
   ]
  },
  {
   "cell_type": "code",
   "execution_count": null,
   "metadata": {},
   "outputs": [],
   "source": [
    "from matplotlib.offsetbox import TextArea, DrawingArea, OffsetImage, AnnotationBbox\n",
    "from matplotlib.cbook import get_sample_data\n",
    "import hvplot.networkx as hvnx\n",
    "import holoviews as hv\n",
    "\n",
    "def rank_creators(courses, course_meta, col=\"players\"):\n",
    "    '''counts likes, players and created courses by \"maker\"'''\n",
    "    df = pd.merge(courses, course_meta, how=\"left\", on=\"id\")\n",
    "    df_lc = (courses.groupby(\"maker\").count().reset_index().rename(columns={\"id\":\"levels\"})[[\"maker\", \"levels\"]])\n",
    "    df = df.groupby(\"maker\").sum().sort_values(by=[col],ascending=False).reset_index()\n",
    "    df = pd.merge(df, df_lc, how=\"left\", on=\"maker\")\n",
    "    return df\n",
    "\n",
    "def download_profile_pics(df, namelist):\n",
    "    \"\"\"downloads and saves profile images for players in namelist\"\"\"\n",
    "    df = df.copy()\n",
    "    for playername in namelist:\n",
    "        image = df.loc[df[\"id\"]==playername][\"image\"].reset_index(drop=True)[0]\n",
    "        urllib.request.urlretrieve(str(image), \"./profiles/\" + str(playername) + \".png\")\n",
    "\n",
    "def top_creators_bar(df, column, amount, players):\n",
    "    '''Creates a barplot to show most active creators'''\n",
    "    # prepare dataframe\n",
    "    df = df.copy()\n",
    "    df = df.sort_values(by=column, ascending=False).reset_index()\n",
    "    df=df.head(amount)\n",
    "    # Check if all creator images exist\n",
    "    files_exist = []\n",
    "    for file in df[\"maker\"]:\n",
    "        files_exist.append(os.path.isfile(\"./profiles/\" + file + \".png\"))\n",
    "    if not all(files_exist):\n",
    "        print(\"Download images\")\n",
    "        download_profile_pics(players, df[\"maker\"])\n",
    "    # Create plot\n",
    "    fig, ax = plt.subplots(figsize=(10, 6))\n",
    "    image_coords = np.array(df[[\"maker\",column]])\n",
    "    images = np.array(df[\"maker\"])\n",
    "    ax.bar(x=df[\"maker\"], height=df[column])\n",
    "    for i in image_coords:\n",
    "        xy = i\n",
    "        arr_img = plt.imread('./profiles/'+str(i[0])+'.png', format='png')\n",
    "        imagebox = OffsetImage(arr_img, zoom=0.5)\n",
    "        ax.plot(xy[0], xy[1])\n",
    "        imagebox.image.axes = ax\n",
    "        ab = AnnotationBbox(imagebox, xy,\n",
    "                            xybox=(0, 30),\n",
    "                            xycoords='data',\n",
    "                            boxcoords=\"offset points\",\n",
    "                            pad=0.0,\n",
    "                            arrowprops=dict(\n",
    "                                alpha=0,\n",
    "                                arrowstyle=\"-\",\n",
    "                                connectionstyle=\"angle,angleA=0,angleB=90,rad=0\"),\n",
    "                            bboxprops =dict(edgecolor=\"#FFFFFF\"))\n",
    "        ax.add_artist(ab)\n",
    "    ax.set_ylim(0, max(df[column])*1.3)\n",
    "    plt.title(\"Creators with most \" + column)\n",
    "    plt.xlabel(\"top creators\")\n",
    "    plt.ylabel(str(column) +  \" [n]\")\n",
    "    plt.xticks(rotation=45)\n",
    "    plt.show()"
   ]
  },
  {
   "cell_type": "code",
   "execution_count": null,
   "metadata": {},
   "outputs": [],
   "source": [
    "\n",
    "\n",
    "def filter_by_creators(courses, plays, creators):\n",
    "    '''filters plays and courses df by creators and returns them as new dataframe'''\n",
    "    levels = courses.loc[courses[\"maker\"].isin(creators)]\n",
    "    players = plays.loc[plays[\"id\"].isin(levels[\"id\"])]\n",
    "    return levels, players\n",
    "\n",
    "def creator_ego_network(levels_df, players_df):\n",
    "    '''Visualizes a ego network of one creator with all its levels and its levels players'''\n",
    "    # nodelists\n",
    "    level_nodes = levels_df[\"id\"].unique()\n",
    "    creator_nodes = levels_df[\"maker\"].unique()\n",
    "    player_nodes = players_df[\"player\"].unique()\n",
    "    # edgelists\n",
    "    level_by_creator = levels_df[[\"id\",\"maker\"]].values.tolist()\n",
    "    player_by_level = players_df[[\"id\",\"player\"]].values.tolist()\n",
    "    BG = nx.Graph()\n",
    "    # add nodes here\n",
    "    BG.add_nodes_from(creator_nodes, node_type=\"Creator\", count=1)\n",
    "    BG.add_nodes_from(level_nodes, node_type=\"Levels\",count=1)\n",
    "    BG.add_nodes_from(player_nodes, node_type=\"Players\",count=1)\n",
    "    # add edges here\n",
    "    BG.add_edges_from(level_by_creator)\n",
    "    BG.add_edges_from(player_by_level)\n",
    "    nodes = BG.nodes()\n",
    "    # for each of the parts create a set \n",
    "    nodes_0  = set([n for n in nodes if  BG.nodes[n]['node_type']==\"Creator\"])\n",
    "    nodes_1  = set([n for n in nodes if  BG.nodes[n]['node_type']==\"Levels\"])\n",
    "    nodes_2  = set([n for n in nodes if  BG.nodes[n]['node_type']==\"Players\"])\n",
    "    # Calculate ratio between nodelists for spacing\n",
    "    spacing_1 = len(nodes_2)/(len(nodes_1)-1)\n",
    "    # set the location of the nodes for each set\n",
    "    pos = dict()\n",
    "    pos.update( (n, (1, i)) for i, n in enumerate(nodes_0) ) # put nodes from X at x=1\n",
    "    pos.update( (n, (2, i*spacing_1)) for i, n in enumerate(nodes_1) ) # put nodes from Y at x=2\n",
    "    pos.update( (n, (3, i)) for i, n in enumerate(nodes_2) ) # put nodes from X at x=1\n",
    "    node_color= len(nodes_0) * [\"#1E90FF\"] + len(nodes_1) * [\"#00FA9A\"] + len(nodes_2) * [\"#FA8072\"]\n",
    "    p = hvnx.draw(BG, pos, node_color=node_color, label=\"Multipartite ego network of creator: {}\".format(creator_nodes[0]), \n",
    "              node_size=40, edge_width=0.5, width=800, height=700, linewidths=0.2)  \n",
    "    return p\n",
    "\n",
    "\n",
    "def weighted_transformed_creator(weighted_levels_df):\n",
    "    '''transforms the creator network to a weighted graph'''\n",
    "    # nodelists\n",
    "    creator_nodes = weighted_levels_df[\"maker\"].unique()\n",
    "    creator_weight = weighted_levels_df.groupby(\"maker\").sum().reset_index()[\"players\"][0]\n",
    "    level_nodes = weighted_levels_df[\"id\"].unique()\n",
    "    level_weights = list(weighted_levels_df[\"players\"])\n",
    "    # edgelists\n",
    "    level_by_creator = weighted_levels_df[[\"id\",\"maker\"]].values.tolist()\n",
    "    BG = nx.Graph()\n",
    "    # add nodes here\n",
    "    BG.add_nodes_from(creator_nodes, node_type=\"Creator\", players=creator_weight)\n",
    "    BG.add_nodes_from(level_nodes, node_type=\"Levels\", players=1)\n",
    "    for i in range(len(level_nodes)):\n",
    "        BG.nodes[level_nodes[i]][\"players\"]=level_weights[i]\n",
    "    # add edges\n",
    "    BG.add_edges_from(level_by_creator)\n",
    "    # for each of the parts create a set \n",
    "    nodes = BG.nodes()\n",
    "    nodes_0  = set([n for n in nodes if  BG.nodes[n]['node_type']==\"Creator\"])\n",
    "    nodes_1  = set([n for n in nodes if  BG.nodes[n]['node_type']==\"Levels\"])\n",
    "    # set the location of the nodes for each set\n",
    "    pos = dict()\n",
    "    pos.update( (n, (0, i)) for i, n in enumerate(nodes_0) ) # put nodes from X at x=1\n",
    "    pos.update( (n, (1, (2/len(nodes_1))*(len(nodes_1)/2-i))) for i, n in enumerate(nodes_1) ) # put nodes from Y at x=2\n",
    "    node_color= len(nodes_0) * [\"#1E90FF\"] + len(nodes_1) * [\"#00FA9A\"] \n",
    "    font_size = [2] * (len(nodes_0) + len(nodes_1))\n",
    "    a = hvnx.draw(BG, pos, node_color=node_color, label=\"Weighted transformed network: bipartite layout   ->\", \n",
    "              font_color=\"#000000\", font_weight=\"normal\", text_font_size=\"small\", node_size=\"players\", edge_width=0.5, width=400, height=700, \n",
    "              linewidths=0.2, labels=\"players\")\n",
    "    pos = nx.spring_layout(BG)\n",
    "    b = hvnx.draw(BG, pos, node_color=node_color, label=\"     Spring layout\", \n",
    "              font_color=\"#000000\", font_weight=\"normal\", text_font_size=\"small\", node_size=\"players\", edge_width=0.5, width=500, height=700, \n",
    "              linewidths=0.2, labels=\"players\")\n",
    "    return a + b\n"
   ]
  },
  {
   "cell_type": "code",
   "execution_count": null,
   "metadata": {},
   "outputs": [],
   "source": [
    "levels_df, players_df = filter_by_creators(courses, plays, [\"Katzzzz\"])\n",
    "creator_ego_network(levels_df, players_df)"
   ]
  },
  {
   "cell_type": "code",
   "execution_count": null,
   "metadata": {},
   "outputs": [],
   "source": [
    "playercount = players_df.groupby(\"id\").count().reset_index().rename(columns={\"player\":\"players\"}).drop(columns=\"catch\")\n",
    "weighted_levels_df = pd.merge(levels_df, playercount, how=\"left\", on=\"id\")\n",
    "weighted_transformed_creator(weighted_levels_df)"
   ]
  },
  {
   "cell_type": "code",
   "execution_count": null,
   "metadata": {},
   "outputs": [],
   "source": [
    "df_top_creators = rank_creators(courses, course_meta, \"players\")"
   ]
  },
  {
   "cell_type": "code",
   "execution_count": null,
   "metadata": {},
   "outputs": [],
   "source": [
    "top_creators_bar(df_top_creators, \"players\", 10, players)"
   ]
  },
  {
   "cell_type": "code",
   "execution_count": null,
   "metadata": {},
   "outputs": [],
   "source": [
    "top_creators_bar(df_top_creators, \"levels\", 10, players)"
   ]
  },
  {
   "cell_type": "code",
   "execution_count": null,
   "metadata": {},
   "outputs": [],
   "source": [
    "top_creators_bar(df_top_creators, \"stars\", 10, players)"
   ]
  },
  {
   "cell_type": "code",
   "execution_count": null,
   "metadata": {},
   "outputs": [],
   "source": [
    "def overall_rank(df):\n",
    "    '''Calculates an overall rank based on weighted players, stars and nr of levels'''\n",
    "    df=df.copy()\n",
    "    df[\"stars_rank\"] = df[\"stars\"].rank(ascending=False)\n",
    "    df[\"players_rank\"] = df[\"players\"].rank(ascending=False) \n",
    "    df[\"levels_rank\"] = df[\"levels\"].rank(ascending=False)\n",
    "    df[\"overall_rank\"] = df[\"players_rank\"] * df[\"stars_rank\"] * df[\"levels_rank\"]\n",
    "    df[\"overall_rank\"] = df[\"overall_rank\"].rank()\n",
    "    df = df.sort_values(by=\"overall_rank\").reset_index(drop=True)\n",
    "    df = df.drop(columns=[\"tweets\",\"clears\", \"attempts\", \"clearRate\"])\n",
    "    return df\n",
    "    \n",
    "final_rank = overall_rank(df_top_creators)\n",
    "final_rank.head(10)"
   ]
  },
  {
   "cell_type": "code",
   "execution_count": null,
   "metadata": {},
   "outputs": [],
   "source": [
    "\n",
    "img = plt.imread(\"./profiles/Monkeydelphin173.png\")\n",
    "N = 1\n",
    "\n",
    "ax=plt.gca()\n",
    "fig=plt.gcf()\n",
    "\n",
    "trans = ax.transData.transform\n",
    "trans2 = fig.transFigure.inverted().transform\n",
    "imsize = 0.1 # this is the image size\n",
    "\n",
    "(x,y) = pos[\"Monkeydelphin173\"]\n",
    "xx,yy = trans((x,y)) # figure coordinates\n",
    "xa,ya = trans2((xx,yy)) # axes coordinates\n",
    "a = plt.axes([xa-imsize/2.0,ya-imsize/2.0, imsize, imsize ])\n",
    "a.imshow(img)\n",
    "a.set_aspect('equal')\n",
    "a.axis('off')\n",
    "plt.show()"
   ]
  },
  {
   "cell_type": "code",
   "execution_count": null,
   "metadata": {},
   "outputs": [],
   "source": [
    "# plt.figure(figsize=(20, 20))\n",
    "\n",
    "\n",
    "# level_nodes = levels_df[\"id\"].unique()\n",
    "# creator_nodes = levels_df[\"maker\"].unique()\n",
    "# player_nodes = players_df[\"player\"].unique()\n",
    "\n",
    "# level_by_creator = levels_df[[\"id\",\"maker\"]].values.tolist()\n",
    "# player_by_level = players_df[[\"id\",\"player\"]].values.tolist()\n",
    "\n",
    "\n",
    "# BG = nx.Graph()\n",
    "\n",
    "# # add nodes here\n",
    "# BG.add_nodes_from(level_nodes, bipartite=1)\n",
    "# BG.add_nodes_from(creator_nodes, bipartite=0)\n",
    "# BG.add_nodes_from(player_nodes, bipartite=2)\n",
    "\n",
    "# # add edges here\n",
    "# BG.add_edges_from(level_by_creator)\n",
    "# BG.add_edges_from(player_by_level)\n",
    "\n",
    "\n",
    "# nodes = BG.nodes()\n",
    "# # for each of the parts create a set \n",
    "# nodes_0  = set([n for n in nodes if  BG.nodes[n]['bipartite']==0])\n",
    "# nodes_1  = set([n for n in nodes if  BG.nodes[n]['bipartite']==1])\n",
    "# nodes_2  = set([n for n in nodes if  BG.nodes[n]['bipartite']==2])\n",
    "\n",
    "# # Calculate ratio between nodelists for spacing\n",
    "# spacing_1 = len(nodes_2)/(len(nodes_1)-1)\n",
    "\n",
    "# # set the location of the nodes for each set\n",
    "# pos = dict()\n",
    "# pos.update( (n, (1, i)) for i, n in enumerate(nodes_0) ) # put nodes from X at x=1\n",
    "# pos.update( (n, (2, i*spacing_1)) for i, n in enumerate(nodes_1) ) # put nodes from Y at x=2\n",
    "# pos.update( (n, (3, i)) for i, n in enumerate(nodes_2) ) # put nodes from X at x=1\n",
    "\n",
    "# nx.draw_networkx_nodes(BG, pos, nodelist=creator_nodes, node_color=\"#FF1E2D\", node_size=10)  \n",
    "# nx.draw_networkx_nodes(BG, pos, nodelist=level_nodes, node_color=\"#00FF2D\", node_size=10)  \n",
    "# nx.draw_networkx_nodes(BG, pos, nodelist=player_nodes, node_color=\"#3944BC\", node_size=10)          \n",
    "\n",
    "\n",
    "# nx.draw_networkx_edges(BG, pos)\n",
    "\n",
    "# plt.show()"
   ]
  }
 ],
 "metadata": {
  "kernelspec": {
   "display_name": "Python 3",
   "language": "python",
   "name": "python3"
  },
  "language_info": {
   "codemirror_mode": {
    "name": "ipython",
    "version": 3
   },
   "file_extension": ".py",
   "mimetype": "text/x-python",
   "name": "python",
   "nbconvert_exporter": "python",
   "pygments_lexer": "ipython3",
   "version": "3.7.3"
  }
 },
 "nbformat": 4,
 "nbformat_minor": 2
}
